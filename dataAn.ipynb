{
 "cells": [
  {
   "cell_type": "code",
   "execution_count": 2,
   "metadata": {},
   "outputs": [],
   "source": [
    "import numpy as np\n",
    "import matplotlib.pyplot as plt\n",
    "import pandas as pd\n",
    "from statistics import mean, median\n",
    "from sklearn.preprocessing import StandardScaler, PolynomialFeatures\n",
    "from sklearn.model_selection import train_test_split\n",
    "from sklearn.metrics import mean_squared_error\n",
    "from sklearn.linear_model import LinearRegression\n",
    "from sklearn.decomposition import PCA"
   ]
  },
  {
   "cell_type": "code",
   "execution_count": 3,
   "metadata": {},
   "outputs": [],
   "source": [
    "df = pd.read_excel('wage.xlsx')"
   ]
  },
  {
   "cell_type": "code",
   "execution_count": 4,
   "metadata": {},
   "outputs": [
    {
     "data": {
      "text/html": [
       "<div>\n",
       "<style scoped>\n",
       "    .dataframe tbody tr th:only-of-type {\n",
       "        vertical-align: middle;\n",
       "    }\n",
       "\n",
       "    .dataframe tbody tr th {\n",
       "        vertical-align: top;\n",
       "    }\n",
       "\n",
       "    .dataframe thead th {\n",
       "        text-align: right;\n",
       "    }\n",
       "</style>\n",
       "<table border=\"1\" class=\"dataframe\">\n",
       "  <thead>\n",
       "    <tr style=\"text-align: right;\">\n",
       "      <th></th>\n",
       "      <th>id</th>\n",
       "      <th>nearc2</th>\n",
       "      <th>nearc4</th>\n",
       "      <th>educ</th>\n",
       "      <th>age</th>\n",
       "      <th>fatheduc</th>\n",
       "      <th>motheduc</th>\n",
       "      <th>weight</th>\n",
       "      <th>momdad14</th>\n",
       "      <th>sinmom14</th>\n",
       "      <th>...</th>\n",
       "      <th>smsa66</th>\n",
       "      <th>wage</th>\n",
       "      <th>enroll</th>\n",
       "      <th>KWW</th>\n",
       "      <th>IQ</th>\n",
       "      <th>married</th>\n",
       "      <th>libcrd14</th>\n",
       "      <th>exper</th>\n",
       "      <th>lwage</th>\n",
       "      <th>expersq</th>\n",
       "    </tr>\n",
       "  </thead>\n",
       "  <tbody>\n",
       "    <tr>\n",
       "      <th>0</th>\n",
       "      <td>2</td>\n",
       "      <td>0</td>\n",
       "      <td>0</td>\n",
       "      <td>7</td>\n",
       "      <td>29</td>\n",
       "      <td>NaN</td>\n",
       "      <td>NaN</td>\n",
       "      <td>158413</td>\n",
       "      <td>1</td>\n",
       "      <td>0</td>\n",
       "      <td>...</td>\n",
       "      <td>1</td>\n",
       "      <td>548</td>\n",
       "      <td>0</td>\n",
       "      <td>15.0</td>\n",
       "      <td>NaN</td>\n",
       "      <td>1.0</td>\n",
       "      <td>0.0</td>\n",
       "      <td>16</td>\n",
       "      <td>6.306275</td>\n",
       "      <td>256</td>\n",
       "    </tr>\n",
       "    <tr>\n",
       "      <th>1</th>\n",
       "      <td>3</td>\n",
       "      <td>0</td>\n",
       "      <td>0</td>\n",
       "      <td>12</td>\n",
       "      <td>27</td>\n",
       "      <td>8.0</td>\n",
       "      <td>8.0</td>\n",
       "      <td>380166</td>\n",
       "      <td>1</td>\n",
       "      <td>0</td>\n",
       "      <td>...</td>\n",
       "      <td>1</td>\n",
       "      <td>481</td>\n",
       "      <td>0</td>\n",
       "      <td>35.0</td>\n",
       "      <td>93.0</td>\n",
       "      <td>1.0</td>\n",
       "      <td>1.0</td>\n",
       "      <td>9</td>\n",
       "      <td>6.175867</td>\n",
       "      <td>81</td>\n",
       "    </tr>\n",
       "    <tr>\n",
       "      <th>2</th>\n",
       "      <td>4</td>\n",
       "      <td>0</td>\n",
       "      <td>0</td>\n",
       "      <td>12</td>\n",
       "      <td>34</td>\n",
       "      <td>14.0</td>\n",
       "      <td>12.0</td>\n",
       "      <td>367470</td>\n",
       "      <td>1</td>\n",
       "      <td>0</td>\n",
       "      <td>...</td>\n",
       "      <td>1</td>\n",
       "      <td>721</td>\n",
       "      <td>0</td>\n",
       "      <td>42.0</td>\n",
       "      <td>103.0</td>\n",
       "      <td>1.0</td>\n",
       "      <td>1.0</td>\n",
       "      <td>16</td>\n",
       "      <td>6.580639</td>\n",
       "      <td>256</td>\n",
       "    </tr>\n",
       "    <tr>\n",
       "      <th>3</th>\n",
       "      <td>5</td>\n",
       "      <td>1</td>\n",
       "      <td>1</td>\n",
       "      <td>11</td>\n",
       "      <td>27</td>\n",
       "      <td>11.0</td>\n",
       "      <td>12.0</td>\n",
       "      <td>380166</td>\n",
       "      <td>1</td>\n",
       "      <td>0</td>\n",
       "      <td>...</td>\n",
       "      <td>1</td>\n",
       "      <td>250</td>\n",
       "      <td>0</td>\n",
       "      <td>25.0</td>\n",
       "      <td>88.0</td>\n",
       "      <td>1.0</td>\n",
       "      <td>1.0</td>\n",
       "      <td>10</td>\n",
       "      <td>5.521461</td>\n",
       "      <td>100</td>\n",
       "    </tr>\n",
       "    <tr>\n",
       "      <th>4</th>\n",
       "      <td>6</td>\n",
       "      <td>1</td>\n",
       "      <td>1</td>\n",
       "      <td>12</td>\n",
       "      <td>34</td>\n",
       "      <td>8.0</td>\n",
       "      <td>7.0</td>\n",
       "      <td>367470</td>\n",
       "      <td>1</td>\n",
       "      <td>0</td>\n",
       "      <td>...</td>\n",
       "      <td>1</td>\n",
       "      <td>729</td>\n",
       "      <td>0</td>\n",
       "      <td>34.0</td>\n",
       "      <td>108.0</td>\n",
       "      <td>1.0</td>\n",
       "      <td>0.0</td>\n",
       "      <td>16</td>\n",
       "      <td>6.591674</td>\n",
       "      <td>256</td>\n",
       "    </tr>\n",
       "    <tr>\n",
       "      <th>5</th>\n",
       "      <td>7</td>\n",
       "      <td>1</td>\n",
       "      <td>1</td>\n",
       "      <td>12</td>\n",
       "      <td>26</td>\n",
       "      <td>9.0</td>\n",
       "      <td>12.0</td>\n",
       "      <td>380166</td>\n",
       "      <td>1</td>\n",
       "      <td>0</td>\n",
       "      <td>...</td>\n",
       "      <td>1</td>\n",
       "      <td>500</td>\n",
       "      <td>0</td>\n",
       "      <td>38.0</td>\n",
       "      <td>85.0</td>\n",
       "      <td>1.0</td>\n",
       "      <td>1.0</td>\n",
       "      <td>8</td>\n",
       "      <td>6.214608</td>\n",
       "      <td>64</td>\n",
       "    </tr>\n",
       "    <tr>\n",
       "      <th>6</th>\n",
       "      <td>8</td>\n",
       "      <td>1</td>\n",
       "      <td>1</td>\n",
       "      <td>18</td>\n",
       "      <td>33</td>\n",
       "      <td>14.0</td>\n",
       "      <td>14.0</td>\n",
       "      <td>367470</td>\n",
       "      <td>1</td>\n",
       "      <td>0</td>\n",
       "      <td>...</td>\n",
       "      <td>1</td>\n",
       "      <td>565</td>\n",
       "      <td>0</td>\n",
       "      <td>41.0</td>\n",
       "      <td>119.0</td>\n",
       "      <td>1.0</td>\n",
       "      <td>1.0</td>\n",
       "      <td>9</td>\n",
       "      <td>6.336826</td>\n",
       "      <td>81</td>\n",
       "    </tr>\n",
       "    <tr>\n",
       "      <th>7</th>\n",
       "      <td>9</td>\n",
       "      <td>1</td>\n",
       "      <td>1</td>\n",
       "      <td>14</td>\n",
       "      <td>29</td>\n",
       "      <td>14.0</td>\n",
       "      <td>14.0</td>\n",
       "      <td>496635</td>\n",
       "      <td>1</td>\n",
       "      <td>0</td>\n",
       "      <td>...</td>\n",
       "      <td>1</td>\n",
       "      <td>608</td>\n",
       "      <td>0</td>\n",
       "      <td>46.0</td>\n",
       "      <td>108.0</td>\n",
       "      <td>1.0</td>\n",
       "      <td>1.0</td>\n",
       "      <td>9</td>\n",
       "      <td>6.410175</td>\n",
       "      <td>81</td>\n",
       "    </tr>\n",
       "    <tr>\n",
       "      <th>8</th>\n",
       "      <td>10</td>\n",
       "      <td>1</td>\n",
       "      <td>1</td>\n",
       "      <td>12</td>\n",
       "      <td>28</td>\n",
       "      <td>12.0</td>\n",
       "      <td>12.0</td>\n",
       "      <td>367772</td>\n",
       "      <td>1</td>\n",
       "      <td>0</td>\n",
       "      <td>...</td>\n",
       "      <td>1</td>\n",
       "      <td>425</td>\n",
       "      <td>0</td>\n",
       "      <td>32.0</td>\n",
       "      <td>96.0</td>\n",
       "      <td>4.0</td>\n",
       "      <td>0.0</td>\n",
       "      <td>10</td>\n",
       "      <td>6.052089</td>\n",
       "      <td>100</td>\n",
       "    </tr>\n",
       "    <tr>\n",
       "      <th>9</th>\n",
       "      <td>11</td>\n",
       "      <td>1</td>\n",
       "      <td>1</td>\n",
       "      <td>12</td>\n",
       "      <td>29</td>\n",
       "      <td>12.0</td>\n",
       "      <td>12.0</td>\n",
       "      <td>480445</td>\n",
       "      <td>1</td>\n",
       "      <td>0</td>\n",
       "      <td>...</td>\n",
       "      <td>1</td>\n",
       "      <td>515</td>\n",
       "      <td>0</td>\n",
       "      <td>34.0</td>\n",
       "      <td>97.0</td>\n",
       "      <td>1.0</td>\n",
       "      <td>1.0</td>\n",
       "      <td>11</td>\n",
       "      <td>6.244167</td>\n",
       "      <td>121</td>\n",
       "    </tr>\n",
       "  </tbody>\n",
       "</table>\n",
       "<p>10 rows × 34 columns</p>\n",
       "</div>"
      ],
      "text/plain": [
       "   id  nearc2  nearc4  educ  age  fatheduc  motheduc  weight  momdad14  \\\n",
       "0   2       0       0     7   29       NaN       NaN  158413         1   \n",
       "1   3       0       0    12   27       8.0       8.0  380166         1   \n",
       "2   4       0       0    12   34      14.0      12.0  367470         1   \n",
       "3   5       1       1    11   27      11.0      12.0  380166         1   \n",
       "4   6       1       1    12   34       8.0       7.0  367470         1   \n",
       "5   7       1       1    12   26       9.0      12.0  380166         1   \n",
       "6   8       1       1    18   33      14.0      14.0  367470         1   \n",
       "7   9       1       1    14   29      14.0      14.0  496635         1   \n",
       "8  10       1       1    12   28      12.0      12.0  367772         1   \n",
       "9  11       1       1    12   29      12.0      12.0  480445         1   \n",
       "\n",
       "   sinmom14  ...  smsa66  wage  enroll   KWW     IQ  married  libcrd14  exper  \\\n",
       "0         0  ...       1   548       0  15.0    NaN      1.0       0.0     16   \n",
       "1         0  ...       1   481       0  35.0   93.0      1.0       1.0      9   \n",
       "2         0  ...       1   721       0  42.0  103.0      1.0       1.0     16   \n",
       "3         0  ...       1   250       0  25.0   88.0      1.0       1.0     10   \n",
       "4         0  ...       1   729       0  34.0  108.0      1.0       0.0     16   \n",
       "5         0  ...       1   500       0  38.0   85.0      1.0       1.0      8   \n",
       "6         0  ...       1   565       0  41.0  119.0      1.0       1.0      9   \n",
       "7         0  ...       1   608       0  46.0  108.0      1.0       1.0      9   \n",
       "8         0  ...       1   425       0  32.0   96.0      4.0       0.0     10   \n",
       "9         0  ...       1   515       0  34.0   97.0      1.0       1.0     11   \n",
       "\n",
       "      lwage  expersq  \n",
       "0  6.306275      256  \n",
       "1  6.175867       81  \n",
       "2  6.580639      256  \n",
       "3  5.521461      100  \n",
       "4  6.591674      256  \n",
       "5  6.214608       64  \n",
       "6  6.336826       81  \n",
       "7  6.410175       81  \n",
       "8  6.052089      100  \n",
       "9  6.244167      121  \n",
       "\n",
       "[10 rows x 34 columns]"
      ]
     },
     "execution_count": 4,
     "metadata": {},
     "output_type": "execute_result"
    }
   ],
   "source": [
    "df.head(10)"
   ]
  },
  {
   "cell_type": "code",
   "execution_count": 5,
   "metadata": {},
   "outputs": [
    {
     "data": {
      "text/plain": [
       "(3010, 34)"
      ]
     },
     "execution_count": 5,
     "metadata": {},
     "output_type": "execute_result"
    }
   ],
   "source": [
    "df.shape"
   ]
  },
  {
   "cell_type": "code",
   "execution_count": 6,
   "metadata": {},
   "outputs": [
    {
     "data": {
      "text/html": [
       "<div>\n",
       "<style scoped>\n",
       "    .dataframe tbody tr th:only-of-type {\n",
       "        vertical-align: middle;\n",
       "    }\n",
       "\n",
       "    .dataframe tbody tr th {\n",
       "        vertical-align: top;\n",
       "    }\n",
       "\n",
       "    .dataframe thead th {\n",
       "        text-align: right;\n",
       "    }\n",
       "</style>\n",
       "<table border=\"1\" class=\"dataframe\">\n",
       "  <thead>\n",
       "    <tr style=\"text-align: right;\">\n",
       "      <th></th>\n",
       "      <th>id</th>\n",
       "      <th>nearc2</th>\n",
       "      <th>nearc4</th>\n",
       "      <th>educ</th>\n",
       "      <th>age</th>\n",
       "      <th>fatheduc</th>\n",
       "      <th>motheduc</th>\n",
       "      <th>weight</th>\n",
       "      <th>momdad14</th>\n",
       "      <th>sinmom14</th>\n",
       "      <th>...</th>\n",
       "      <th>smsa66</th>\n",
       "      <th>wage</th>\n",
       "      <th>enroll</th>\n",
       "      <th>KWW</th>\n",
       "      <th>IQ</th>\n",
       "      <th>married</th>\n",
       "      <th>libcrd14</th>\n",
       "      <th>exper</th>\n",
       "      <th>lwage</th>\n",
       "      <th>expersq</th>\n",
       "    </tr>\n",
       "  </thead>\n",
       "  <tbody>\n",
       "  </tbody>\n",
       "</table>\n",
       "<p>0 rows × 34 columns</p>\n",
       "</div>"
      ],
      "text/plain": [
       "Empty DataFrame\n",
       "Columns: [id, nearc2, nearc4, educ, age, fatheduc, motheduc, weight, momdad14, sinmom14, step14, reg661, reg662, reg663, reg664, reg665, reg666, reg667, reg668, reg669, south66, black, smsa, south, smsa66, wage, enroll, KWW, IQ, married, libcrd14, exper, lwage, expersq]\n",
       "Index: []\n",
       "\n",
       "[0 rows x 34 columns]"
      ]
     },
     "execution_count": 6,
     "metadata": {},
     "output_type": "execute_result"
    }
   ],
   "source": [
    "df[df['lwage'] < 0]"
   ]
  },
  {
   "cell_type": "code",
   "execution_count": 106,
   "metadata": {},
   "outputs": [
    {
     "name": "stdout",
     "output_type": "stream",
     "text": [
      "fatheduc 690\n",
      "motheduc 353\n",
      "KWW 47\n",
      "IQ 949\n",
      "married 7\n",
      "libcrd14 13\n"
     ]
    }
   ],
   "source": [
    "nan_values = df.isnull()\n",
    "nan_columns = nan_values.any()\n",
    "columns_with_nan = df.columns[nan_columns]\n",
    "for i in columns_with_nan:\n",
    "    print(i, df[i].isnull().sum())"
   ]
  },
  {
   "cell_type": "code",
   "execution_count": 107,
   "metadata": {},
   "outputs": [],
   "source": [
    "for i in columns_with_nan:\n",
    "    df[i].fillna(df[i].mean(), inplace=True)"
   ]
  },
  {
   "cell_type": "code",
   "execution_count": 108,
   "metadata": {},
   "outputs": [],
   "source": [
    "#Find all column with 'reg66' \n",
    "reg66 = df.columns[df.columns.str.contains('reg66')].tolist()\n",
    "regSum = [sum(df[df[reg] == 1].wage.tolist()) for reg in reg66]\n",
    "reg66.append('south66')\n",
    "regSum.append(sum(df[df['south66'] == 1].wage.tolist()))\n",
    "regDict = dict(zip(reg66, regSum))"
   ]
  },
  {
   "cell_type": "code",
   "execution_count": 109,
   "metadata": {},
   "outputs": [
    {
     "data": {
      "text/plain": [
       "([140, 484, 589, 193, 627, 289, 331, 85, 272, 1247], 4257, 3010)"
      ]
     },
     "execution_count": 109,
     "metadata": {},
     "output_type": "execute_result"
    }
   ],
   "source": [
    "regLen = [len(df[df[reg] == 1].wage.tolist()) for reg in reg66]\n",
    "regLen,sum(regLen), sum(regLen[:-1])"
   ]
  },
  {
   "cell_type": "code",
   "execution_count": 110,
   "metadata": {},
   "outputs": [
    {
     "data": {
      "image/png": "[encoded data removed]",
      "text/plain": [
       "<Figure size 720x360 with 1 Axes>"
      ]
     },
     "metadata": {
      "needs_background": "light"
     },
     "output_type": "display_data"
    }
   ],
   "source": [
    "plt.figure(figsize=(10,5))\n",
    "plt.bar(regDict.keys(), regDict.values())\n",
    "plt.xlabel('Region')\n",
    "plt.ylabel('Wage')\n",
    "plt.show()"
   ]
  },
  {
   "cell_type": "code",
   "execution_count": 111,
   "metadata": {},
   "outputs": [
    {
     "data": {
      "text/plain": [
       "(1247, {'reg665': 627, 'reg666': 289, 'reg667': 331})"
      ]
     },
     "execution_count": 111,
     "metadata": {},
     "output_type": "execute_result"
    }
   ],
   "source": [
    "southReg = []\n",
    "reg66_2 = reg66[:]\n",
    "reg66_2.remove('south66')\n",
    "regSum_2 = regSum[:]\n",
    "del regSum_2[-1]\n",
    "regDict2 = dict(zip(reg66_2, regSum_2))\n",
    "for reg in reg66_2:\n",
    "    for i in zip(df[reg], df['south66']):\n",
    "        if i == (1,1):\n",
    "            southReg.append(reg)\n",
    "countSouthReg = dict()\n",
    "for w in southReg:\n",
    "    countSouthReg[w] = countSouthReg.get(w, 0) + 1\n",
    "countSouthReg = dict(sorted(countSouthReg.items()))\n",
    "\n",
    "sum(countSouthReg.values()), countSouthReg\n",
    "            "
   ]
  },
  {
   "cell_type": "code",
   "execution_count": 112,
   "metadata": {},
   "outputs": [
    {
     "data": {
      "text/plain": [
       "[]"
      ]
     },
     "execution_count": 112,
     "metadata": {},
     "output_type": "execute_result"
    }
   ],
   "source": [
    "lst = []\n",
    "dfNew = df.loc[:,'reg661':'south66'].values.tolist()\n",
    "for i in dfNew:\n",
    "    if i[-1] == 1 and np.count_nonzero(i) == 1:\n",
    "        lst.append(i)\n",
    "\n",
    "lst\n"
   ]
  },
  {
   "cell_type": "code",
   "execution_count": 113,
   "metadata": {},
   "outputs": [
    {
     "data": {
      "text/html": [
       "<div>\n",
       "<style scoped>\n",
       "    .dataframe tbody tr th:only-of-type {\n",
       "        vertical-align: middle;\n",
       "    }\n",
       "\n",
       "    .dataframe tbody tr th {\n",
       "        vertical-align: top;\n",
       "    }\n",
       "\n",
       "    .dataframe thead th {\n",
       "        text-align: right;\n",
       "    }\n",
       "</style>\n",
       "<table border=\"1\" class=\"dataframe\">\n",
       "  <thead>\n",
       "    <tr style=\"text-align: right;\">\n",
       "      <th></th>\n",
       "      <th>reg661</th>\n",
       "      <th>reg662</th>\n",
       "      <th>reg663</th>\n",
       "      <th>reg664</th>\n",
       "      <th>reg665</th>\n",
       "      <th>reg666</th>\n",
       "      <th>reg667</th>\n",
       "      <th>reg668</th>\n",
       "      <th>reg669</th>\n",
       "      <th>south66</th>\n",
       "    </tr>\n",
       "  </thead>\n",
       "  <tbody>\n",
       "    <tr>\n",
       "      <th>948</th>\n",
       "      <td>0</td>\n",
       "      <td>0</td>\n",
       "      <td>0</td>\n",
       "      <td>0</td>\n",
       "      <td>1</td>\n",
       "      <td>0</td>\n",
       "      <td>0</td>\n",
       "      <td>0</td>\n",
       "      <td>0</td>\n",
       "      <td>1</td>\n",
       "    </tr>\n",
       "    <tr>\n",
       "      <th>1406</th>\n",
       "      <td>0</td>\n",
       "      <td>0</td>\n",
       "      <td>0</td>\n",
       "      <td>0</td>\n",
       "      <td>0</td>\n",
       "      <td>0</td>\n",
       "      <td>1</td>\n",
       "      <td>0</td>\n",
       "      <td>0</td>\n",
       "      <td>1</td>\n",
       "    </tr>\n",
       "    <tr>\n",
       "      <th>1407</th>\n",
       "      <td>0</td>\n",
       "      <td>0</td>\n",
       "      <td>0</td>\n",
       "      <td>0</td>\n",
       "      <td>0</td>\n",
       "      <td>0</td>\n",
       "      <td>1</td>\n",
       "      <td>0</td>\n",
       "      <td>0</td>\n",
       "      <td>1</td>\n",
       "    </tr>\n",
       "    <tr>\n",
       "      <th>1408</th>\n",
       "      <td>0</td>\n",
       "      <td>0</td>\n",
       "      <td>0</td>\n",
       "      <td>0</td>\n",
       "      <td>0</td>\n",
       "      <td>0</td>\n",
       "      <td>1</td>\n",
       "      <td>0</td>\n",
       "      <td>0</td>\n",
       "      <td>1</td>\n",
       "    </tr>\n",
       "    <tr>\n",
       "      <th>1409</th>\n",
       "      <td>0</td>\n",
       "      <td>0</td>\n",
       "      <td>0</td>\n",
       "      <td>0</td>\n",
       "      <td>0</td>\n",
       "      <td>0</td>\n",
       "      <td>1</td>\n",
       "      <td>0</td>\n",
       "      <td>0</td>\n",
       "      <td>1</td>\n",
       "    </tr>\n",
       "    <tr>\n",
       "      <th>...</th>\n",
       "      <td>...</td>\n",
       "      <td>...</td>\n",
       "      <td>...</td>\n",
       "      <td>...</td>\n",
       "      <td>...</td>\n",
       "      <td>...</td>\n",
       "      <td>...</td>\n",
       "      <td>...</td>\n",
       "      <td>...</td>\n",
       "      <td>...</td>\n",
       "    </tr>\n",
       "    <tr>\n",
       "      <th>3005</th>\n",
       "      <td>0</td>\n",
       "      <td>0</td>\n",
       "      <td>0</td>\n",
       "      <td>0</td>\n",
       "      <td>0</td>\n",
       "      <td>1</td>\n",
       "      <td>0</td>\n",
       "      <td>0</td>\n",
       "      <td>0</td>\n",
       "      <td>1</td>\n",
       "    </tr>\n",
       "    <tr>\n",
       "      <th>3006</th>\n",
       "      <td>0</td>\n",
       "      <td>0</td>\n",
       "      <td>0</td>\n",
       "      <td>0</td>\n",
       "      <td>0</td>\n",
       "      <td>1</td>\n",
       "      <td>0</td>\n",
       "      <td>0</td>\n",
       "      <td>0</td>\n",
       "      <td>1</td>\n",
       "    </tr>\n",
       "    <tr>\n",
       "      <th>3007</th>\n",
       "      <td>0</td>\n",
       "      <td>0</td>\n",
       "      <td>0</td>\n",
       "      <td>0</td>\n",
       "      <td>0</td>\n",
       "      <td>1</td>\n",
       "      <td>0</td>\n",
       "      <td>0</td>\n",
       "      <td>0</td>\n",
       "      <td>1</td>\n",
       "    </tr>\n",
       "    <tr>\n",
       "      <th>3008</th>\n",
       "      <td>0</td>\n",
       "      <td>0</td>\n",
       "      <td>0</td>\n",
       "      <td>0</td>\n",
       "      <td>0</td>\n",
       "      <td>1</td>\n",
       "      <td>0</td>\n",
       "      <td>0</td>\n",
       "      <td>0</td>\n",
       "      <td>1</td>\n",
       "    </tr>\n",
       "    <tr>\n",
       "      <th>3009</th>\n",
       "      <td>0</td>\n",
       "      <td>0</td>\n",
       "      <td>0</td>\n",
       "      <td>0</td>\n",
       "      <td>0</td>\n",
       "      <td>1</td>\n",
       "      <td>0</td>\n",
       "      <td>0</td>\n",
       "      <td>0</td>\n",
       "      <td>1</td>\n",
       "    </tr>\n",
       "  </tbody>\n",
       "</table>\n",
       "<p>1247 rows × 10 columns</p>\n",
       "</div>"
      ],
      "text/plain": [
       "      reg661  reg662  reg663  reg664  reg665  reg666  reg667  reg668  reg669  \\\n",
       "948        0       0       0       0       1       0       0       0       0   \n",
       "1406       0       0       0       0       0       0       1       0       0   \n",
       "1407       0       0       0       0       0       0       1       0       0   \n",
       "1408       0       0       0       0       0       0       1       0       0   \n",
       "1409       0       0       0       0       0       0       1       0       0   \n",
       "...      ...     ...     ...     ...     ...     ...     ...     ...     ...   \n",
       "3005       0       0       0       0       0       1       0       0       0   \n",
       "3006       0       0       0       0       0       1       0       0       0   \n",
       "3007       0       0       0       0       0       1       0       0       0   \n",
       "3008       0       0       0       0       0       1       0       0       0   \n",
       "3009       0       0       0       0       0       1       0       0       0   \n",
       "\n",
       "      south66  \n",
       "948         1  \n",
       "1406        1  \n",
       "1407        1  \n",
       "1408        1  \n",
       "1409        1  \n",
       "...       ...  \n",
       "3005        1  \n",
       "3006        1  \n",
       "3007        1  \n",
       "3008        1  \n",
       "3009        1  \n",
       "\n",
       "[1247 rows x 10 columns]"
      ]
     },
     "execution_count": 113,
     "metadata": {},
     "output_type": "execute_result"
    }
   ],
   "source": [
    "df[df['south66'] == 1].loc[:,'reg661':'south66']"
   ]
  },
  {
   "cell_type": "code",
   "execution_count": 114,
   "metadata": {},
   "outputs": [
    {
     "data": {
      "image/png": "[encoded data removed]",
      "text/plain": [
       "<Figure size 720x360 with 1 Axes>"
      ]
     },
     "metadata": {
      "needs_background": "light"
     },
     "output_type": "display_data"
    }
   ],
   "source": [
    "plt.figure(figsize=(10,5))\n",
    "plt.bar(regDict2.keys(), regDict2.values())\n",
    "plt.title('Total wage by region')\n",
    "plt.xlabel('Region')\n",
    "plt.ylabel('Wage')\n",
    "plt.show()"
   ]
  },
  {
   "cell_type": "code",
   "execution_count": 115,
   "metadata": {},
   "outputs": [],
   "source": [
    "regMean = [mean(df[df[reg] == 1].wage.tolist()) for reg in reg66_2]"
   ]
  },
  {
   "cell_type": "code",
   "execution_count": 116,
   "metadata": {},
   "outputs": [
    {
     "data": {
      "image/png": "[encoded data removed]",
      "text/plain": [
       "<Figure size 720x360 with 1 Axes>"
      ]
     },
     "metadata": {
      "needs_background": "light"
     },
     "output_type": "display_data"
    }
   ],
   "source": [
    "plt.figure(figsize=(10,5))\n",
    "plt.bar(reg66_2, regMean)\n",
    "plt.title('Mean wage by region')\n",
    "plt.xlabel('Region')\n",
    "plt.ylabel('Wage')\n",
    "plt.show()"
   ]
  },
  {
   "cell_type": "code",
   "execution_count": 117,
   "metadata": {},
   "outputs": [],
   "source": [
    "regMax = [max(df[df[reg] == 1].wage.tolist()) for reg in reg66_2]\n",
    "regMin = [min(df[df[reg] == 1].wage.tolist()) for reg in reg66_2]"
   ]
  },
  {
   "cell_type": "code",
   "execution_count": 118,
   "metadata": {},
   "outputs": [
    {
     "data": {
      "image/png": "[encoded data removed]",
      "text/plain": [
       "<Figure size 720x360 with 1 Axes>"
      ]
     },
     "metadata": {
      "needs_background": "light"
     },
     "output_type": "display_data"
    }
   ],
   "source": [
    "plt.figure(figsize=(10,5))\n",
    "plt.bar(reg66_2, regMax)\n",
    "plt.title('Max wage by region')\n",
    "plt.xlabel('Region')\n",
    "plt.ylabel('Wage')\n",
    "plt.show()"
   ]
  },
  {
   "cell_type": "code",
   "execution_count": 119,
   "metadata": {},
   "outputs": [
    {
     "data": {
      "image/png": "[encoded data removed]",
      "text/plain": [
       "<Figure size 720x360 with 1 Axes>"
      ]
     },
     "metadata": {
      "needs_background": "light"
     },
     "output_type": "display_data"
    }
   ],
   "source": [
    "plt.figure(figsize=(10,5))\n",
    "plt.bar(reg66_2, regMin)\n",
    "plt.title('Min wage by region')\n",
    "plt.xlabel('Region')\n",
    "plt.ylabel('Wage')\n",
    "plt.show()"
   ]
  },
  {
   "cell_type": "code",
   "execution_count": 120,
   "metadata": {},
   "outputs": [
    {
     "data": {
      "text/plain": [
       "[140, 484, 589, 193, 627, 289, 331, 85, 272]"
      ]
     },
     "execution_count": 120,
     "metadata": {},
     "output_type": "execute_result"
    }
   ],
   "source": [
    "totalPeople = [len(df[df[reg] == 1]) for reg in reg66_2]\n",
    "totalPeople"
   ]
  },
  {
   "cell_type": "code",
   "execution_count": 121,
   "metadata": {},
   "outputs": [
    {
     "data": {
      "image/png": "[encoded data removed]",
      "text/plain": [
       "<Figure size 720x360 with 1 Axes>"
      ]
     },
     "metadata": {
      "needs_background": "light"
     },
     "output_type": "display_data"
    }
   ],
   "source": [
    "plt.figure(figsize=(10,5))\n",
    "plt.bar(reg66_2, totalPeople)\n",
    "plt.title('Total people by region')\n",
    "plt.xlabel('Region')\n",
    "plt.ylabel('People')\n",
    "plt.show()"
   ]
  },
  {
   "cell_type": "code",
   "execution_count": 122,
   "metadata": {},
   "outputs": [
    {
     "data": {
      "text/plain": [
       "[244.93526539617338,\n",
       " 290.53815484629143,\n",
       " 255.82783238495352,\n",
       " 222.81170315286596,\n",
       " 234.36940393993527,\n",
       " 208.07993821829277,\n",
       " 242.7024717448821,\n",
       " 208.71435887024143,\n",
       " 303.0496021522209]"
      ]
     },
     "execution_count": 122,
     "metadata": {},
     "output_type": "execute_result"
    }
   ],
   "source": [
    "regStd = [np.std(df[df[reg] == 1].wage.tolist()) for reg in reg66_2]\n",
    "regStd"
   ]
  },
  {
   "cell_type": "code",
   "execution_count": 123,
   "metadata": {},
   "outputs": [
    {
     "data": {
      "image/png": "[encoded data removed]",
      "text/plain": [
       "<Figure size 720x360 with 1 Axes>"
      ]
     },
     "metadata": {
      "needs_background": "light"
     },
     "output_type": "display_data"
    }
   ],
   "source": [
    "plt.figure(figsize=(10,5))\n",
    "plt.bar(reg66_2, regStd)\n",
    "plt.title('Std by region')\n",
    "plt.xlabel('Region')\n",
    "plt.ylabel('Wage std')\n",
    "plt.show()"
   ]
  },
  {
   "cell_type": "code",
   "execution_count": 124,
   "metadata": {},
   "outputs": [
    {
     "data": {
      "text/plain": [
       "[548.5, 606.0, 630, 542, 452, 438, 450, 538, 631.5]"
      ]
     },
     "execution_count": 124,
     "metadata": {},
     "output_type": "execute_result"
    }
   ],
   "source": [
    "regMedian = [median(df[df[reg] == 1].wage.tolist()) for reg in reg66_2]\n",
    "regMedian"
   ]
  },
  {
   "cell_type": "code",
   "execution_count": 125,
   "metadata": {},
   "outputs": [
    {
     "data": {
      "image/png": "[encoded data removed]",
      "text/plain": [
       "<Figure size 720x360 with 1 Axes>"
      ]
     },
     "metadata": {
      "needs_background": "light"
     },
     "output_type": "display_data"
    }
   ],
   "source": [
    "plt.figure(figsize=(10,5))\n",
    "plt.bar(reg66_2, regMedian)\n",
    "plt.title('Median of wage')\n",
    "plt.xlabel('Region')\n",
    "plt.ylabel('Wage median')\n",
    "plt.show()"
   ]
  },
  {
   "cell_type": "code",
   "execution_count": 126,
   "metadata": {},
   "outputs": [
    {
     "data": {
      "text/plain": [
       "[1295, 2268, 1808, 1410, 1971, 1274, 1535, 1192, 1967]"
      ]
     },
     "execution_count": 126,
     "metadata": {},
     "output_type": "execute_result"
    }
   ],
   "source": [
    "regRange = [max(df[df[reg] == 1].wage.tolist()) - min(df[df[reg] == 1].wage.tolist())  for reg in reg66_2]\n",
    "regRange"
   ]
  },
  {
   "cell_type": "code",
   "execution_count": 127,
   "metadata": {},
   "outputs": [
    {
     "data": {
      "image/png": "[encoded data removed]",
      "text/plain": [
       "<Figure size 720x360 with 1 Axes>"
      ]
     },
     "metadata": {
      "needs_background": "light"
     },
     "output_type": "display_data"
    }
   ],
   "source": [
    "plt.figure(figsize=(10,5))\n",
    "plt.bar(reg66_2, regRange)\n",
    "plt.title('Max wage & min wage difference')\n",
    "plt.xlabel('Region')\n",
    "plt.ylabel('Wage difference')\n",
    "plt.show()"
   ]
  },
  {
   "cell_type": "code",
   "execution_count": 128,
   "metadata": {},
   "outputs": [],
   "source": [
    "nullKey = []\n",
    "nullVal = []\n",
    "for i in columns_with_nan:\n",
    "    nullKey.append(i)\n",
    "    nullVal.append(df[i].isnull().sum())\n",
    "nullKey.append('Total')\n",
    "nullVal.append(len(df.index))\n",
    "\n"
   ]
  },
  {
   "cell_type": "code",
   "execution_count": 129,
   "metadata": {},
   "outputs": [
    {
     "data": {
      "image/png": "[encoded data removed]",
      "text/plain": [
       "<Figure size 720x360 with 1 Axes>"
      ]
     },
     "metadata": {
      "needs_background": "light"
     },
     "output_type": "display_data"
    }
   ],
   "source": [
    "plt.figure(figsize=(10,5))\n",
    "plt.bar(nullKey, nullVal)\n",
    "plt.title('Null values')\n",
    "plt.xlabel('Key')\n",
    "plt.ylabel('Total values')\n",
    "plt.show()"
   ]
  },
  {
   "cell_type": "code",
   "execution_count": 130,
   "metadata": {},
   "outputs": [
    {
     "name": "stdout",
     "output_type": "stream",
     "text": [
      "Correlation\n"
     ]
    },
    {
     "data": {
      "text/html": [
       "<div>\n",
       "<style scoped>\n",
       "    .dataframe tbody tr th:only-of-type {\n",
       "        vertical-align: middle;\n",
       "    }\n",
       "\n",
       "    .dataframe tbody tr th {\n",
       "        vertical-align: top;\n",
       "    }\n",
       "\n",
       "    .dataframe thead th {\n",
       "        text-align: right;\n",
       "    }\n",
       "</style>\n",
       "<table border=\"1\" class=\"dataframe\">\n",
       "  <thead>\n",
       "    <tr style=\"text-align: right;\">\n",
       "      <th></th>\n",
       "      <th>IQ</th>\n",
       "      <th>wage</th>\n",
       "      <th>exper</th>\n",
       "    </tr>\n",
       "  </thead>\n",
       "  <tbody>\n",
       "    <tr>\n",
       "      <th>IQ</th>\n",
       "      <td>1.000000</td>\n",
       "      <td>0.159432</td>\n",
       "      <td>-0.265929</td>\n",
       "    </tr>\n",
       "    <tr>\n",
       "      <th>wage</th>\n",
       "      <td>0.159432</td>\n",
       "      <td>1.000000</td>\n",
       "      <td>0.030035</td>\n",
       "    </tr>\n",
       "    <tr>\n",
       "      <th>exper</th>\n",
       "      <td>-0.265929</td>\n",
       "      <td>0.030035</td>\n",
       "      <td>1.000000</td>\n",
       "    </tr>\n",
       "  </tbody>\n",
       "</table>\n",
       "</div>"
      ],
      "text/plain": [
       "             IQ      wage     exper\n",
       "IQ     1.000000  0.159432 -0.265929\n",
       "wage   0.159432  1.000000  0.030035\n",
       "exper -0.265929  0.030035  1.000000"
      ]
     },
     "execution_count": 130,
     "metadata": {},
     "output_type": "execute_result"
    }
   ],
   "source": [
    "x = df['IQ']\n",
    "y = df['wage']\n",
    "z = df['exper']\n",
    "xyz = pd.DataFrame({'IQ': x, 'wage': y, 'exper': z})\n",
    "print('Correlation')\n",
    "xyz.corr()"
   ]
  },
  {
   "cell_type": "code",
   "execution_count": 131,
   "metadata": {},
   "outputs": [
    {
     "data": {
      "text/plain": [
       "[<matplotlib.lines.Line2D at 0x26a0b392a30>]"
      ]
     },
     "execution_count": 131,
     "metadata": {},
     "output_type": "execute_result"
    },
    {
     "data": {
      "image/png": "[encoded data removed]",
      "text/plain": [
       "<Figure size 432x288 with 1 Axes>"
      ]
     },
     "metadata": {
      "needs_background": "light"
     },
     "output_type": "display_data"
    }
   ],
   "source": [
    "plt.plot(df.wage, df.IQ, 'o')"
   ]
  },
  {
   "cell_type": "code",
   "execution_count": 132,
   "metadata": {},
   "outputs": [
    {
     "data": {
      "text/plain": [
       "[<matplotlib.lines.Line2D at 0x26a0b280580>]"
      ]
     },
     "execution_count": 132,
     "metadata": {},
     "output_type": "execute_result"
    },
    {
     "data": {
      "image/png": "[encoded data removed]",
      "text/plain": [
       "<Figure size 432x288 with 1 Axes>"
      ]
     },
     "metadata": {
      "needs_background": "light"
     },
     "output_type": "display_data"
    }
   ],
   "source": [
    "plt.plot(df.wage,df.exper, 'o')"
   ]
  },
  {
   "cell_type": "code",
   "execution_count": 133,
   "metadata": {},
   "outputs": [
    {
     "data": {
      "text/plain": [
       "102.44978165938865"
      ]
     },
     "execution_count": 133,
     "metadata": {},
     "output_type": "execute_result"
    }
   ],
   "source": [
    "mean(df['IQ'])"
   ]
  },
  {
   "cell_type": "code",
   "execution_count": null,
   "metadata": {},
   "outputs": [],
   "source": []
  },
  {
   "cell_type": "code",
   "execution_count": 246,
   "metadata": {},
   "outputs": [
    {
     "data": {
      "text/html": [
       "<div>\n",
       "<style scoped>\n",
       "    .dataframe tbody tr th:only-of-type {\n",
       "        vertical-align: middle;\n",
       "    }\n",
       "\n",
       "    .dataframe tbody tr th {\n",
       "        vertical-align: top;\n",
       "    }\n",
       "\n",
       "    .dataframe thead th {\n",
       "        text-align: right;\n",
       "    }\n",
       "</style>\n",
       "<table border=\"1\" class=\"dataframe\">\n",
       "  <thead>\n",
       "    <tr style=\"text-align: right;\">\n",
       "      <th></th>\n",
       "      <th>IQ</th>\n",
       "      <th>KWW</th>\n",
       "      <th>age</th>\n",
       "      <th>black</th>\n",
       "      <th>educ</th>\n",
       "      <th>enroll</th>\n",
       "      <th>exper</th>\n",
       "      <th>expersq</th>\n",
       "      <th>fatheduc</th>\n",
       "      <th>id</th>\n",
       "      <th>...</th>\n",
       "      <th>reg667</th>\n",
       "      <th>reg668</th>\n",
       "      <th>reg669</th>\n",
       "      <th>sinmom14</th>\n",
       "      <th>smsa</th>\n",
       "      <th>smsa66</th>\n",
       "      <th>south</th>\n",
       "      <th>south66</th>\n",
       "      <th>step14</th>\n",
       "      <th>weight</th>\n",
       "    </tr>\n",
       "  </thead>\n",
       "  <tbody>\n",
       "    <tr>\n",
       "      <th>0</th>\n",
       "      <td>102.449782</td>\n",
       "      <td>15.0</td>\n",
       "      <td>29</td>\n",
       "      <td>1</td>\n",
       "      <td>7</td>\n",
       "      <td>0</td>\n",
       "      <td>16</td>\n",
       "      <td>256</td>\n",
       "      <td>10.003448</td>\n",
       "      <td>2</td>\n",
       "      <td>...</td>\n",
       "      <td>0</td>\n",
       "      <td>0</td>\n",
       "      <td>0</td>\n",
       "      <td>0</td>\n",
       "      <td>1</td>\n",
       "      <td>1</td>\n",
       "      <td>0</td>\n",
       "      <td>0</td>\n",
       "      <td>0</td>\n",
       "      <td>158413</td>\n",
       "    </tr>\n",
       "    <tr>\n",
       "      <th>1</th>\n",
       "      <td>93.000000</td>\n",
       "      <td>35.0</td>\n",
       "      <td>27</td>\n",
       "      <td>0</td>\n",
       "      <td>12</td>\n",
       "      <td>0</td>\n",
       "      <td>9</td>\n",
       "      <td>81</td>\n",
       "      <td>8.000000</td>\n",
       "      <td>3</td>\n",
       "      <td>...</td>\n",
       "      <td>0</td>\n",
       "      <td>0</td>\n",
       "      <td>0</td>\n",
       "      <td>0</td>\n",
       "      <td>1</td>\n",
       "      <td>1</td>\n",
       "      <td>0</td>\n",
       "      <td>0</td>\n",
       "      <td>0</td>\n",
       "      <td>380166</td>\n",
       "    </tr>\n",
       "    <tr>\n",
       "      <th>2</th>\n",
       "      <td>103.000000</td>\n",
       "      <td>42.0</td>\n",
       "      <td>34</td>\n",
       "      <td>0</td>\n",
       "      <td>12</td>\n",
       "      <td>0</td>\n",
       "      <td>16</td>\n",
       "      <td>256</td>\n",
       "      <td>14.000000</td>\n",
       "      <td>4</td>\n",
       "      <td>...</td>\n",
       "      <td>0</td>\n",
       "      <td>0</td>\n",
       "      <td>0</td>\n",
       "      <td>0</td>\n",
       "      <td>1</td>\n",
       "      <td>1</td>\n",
       "      <td>0</td>\n",
       "      <td>0</td>\n",
       "      <td>0</td>\n",
       "      <td>367470</td>\n",
       "    </tr>\n",
       "    <tr>\n",
       "      <th>3</th>\n",
       "      <td>88.000000</td>\n",
       "      <td>25.0</td>\n",
       "      <td>27</td>\n",
       "      <td>0</td>\n",
       "      <td>11</td>\n",
       "      <td>0</td>\n",
       "      <td>10</td>\n",
       "      <td>100</td>\n",
       "      <td>11.000000</td>\n",
       "      <td>5</td>\n",
       "      <td>...</td>\n",
       "      <td>0</td>\n",
       "      <td>0</td>\n",
       "      <td>0</td>\n",
       "      <td>0</td>\n",
       "      <td>1</td>\n",
       "      <td>1</td>\n",
       "      <td>0</td>\n",
       "      <td>0</td>\n",
       "      <td>0</td>\n",
       "      <td>380166</td>\n",
       "    </tr>\n",
       "    <tr>\n",
       "      <th>4</th>\n",
       "      <td>108.000000</td>\n",
       "      <td>34.0</td>\n",
       "      <td>34</td>\n",
       "      <td>0</td>\n",
       "      <td>12</td>\n",
       "      <td>0</td>\n",
       "      <td>16</td>\n",
       "      <td>256</td>\n",
       "      <td>8.000000</td>\n",
       "      <td>6</td>\n",
       "      <td>...</td>\n",
       "      <td>0</td>\n",
       "      <td>0</td>\n",
       "      <td>0</td>\n",
       "      <td>0</td>\n",
       "      <td>1</td>\n",
       "      <td>1</td>\n",
       "      <td>0</td>\n",
       "      <td>0</td>\n",
       "      <td>0</td>\n",
       "      <td>367470</td>\n",
       "    </tr>\n",
       "    <tr>\n",
       "      <th>5</th>\n",
       "      <td>85.000000</td>\n",
       "      <td>38.0</td>\n",
       "      <td>26</td>\n",
       "      <td>0</td>\n",
       "      <td>12</td>\n",
       "      <td>0</td>\n",
       "      <td>8</td>\n",
       "      <td>64</td>\n",
       "      <td>9.000000</td>\n",
       "      <td>7</td>\n",
       "      <td>...</td>\n",
       "      <td>0</td>\n",
       "      <td>0</td>\n",
       "      <td>0</td>\n",
       "      <td>0</td>\n",
       "      <td>1</td>\n",
       "      <td>1</td>\n",
       "      <td>0</td>\n",
       "      <td>0</td>\n",
       "      <td>0</td>\n",
       "      <td>380166</td>\n",
       "    </tr>\n",
       "    <tr>\n",
       "      <th>6</th>\n",
       "      <td>119.000000</td>\n",
       "      <td>41.0</td>\n",
       "      <td>33</td>\n",
       "      <td>0</td>\n",
       "      <td>18</td>\n",
       "      <td>0</td>\n",
       "      <td>9</td>\n",
       "      <td>81</td>\n",
       "      <td>14.000000</td>\n",
       "      <td>8</td>\n",
       "      <td>...</td>\n",
       "      <td>0</td>\n",
       "      <td>0</td>\n",
       "      <td>0</td>\n",
       "      <td>0</td>\n",
       "      <td>1</td>\n",
       "      <td>1</td>\n",
       "      <td>0</td>\n",
       "      <td>0</td>\n",
       "      <td>0</td>\n",
       "      <td>367470</td>\n",
       "    </tr>\n",
       "    <tr>\n",
       "      <th>7</th>\n",
       "      <td>108.000000</td>\n",
       "      <td>46.0</td>\n",
       "      <td>29</td>\n",
       "      <td>0</td>\n",
       "      <td>14</td>\n",
       "      <td>0</td>\n",
       "      <td>9</td>\n",
       "      <td>81</td>\n",
       "      <td>14.000000</td>\n",
       "      <td>9</td>\n",
       "      <td>...</td>\n",
       "      <td>0</td>\n",
       "      <td>0</td>\n",
       "      <td>0</td>\n",
       "      <td>0</td>\n",
       "      <td>1</td>\n",
       "      <td>1</td>\n",
       "      <td>0</td>\n",
       "      <td>0</td>\n",
       "      <td>0</td>\n",
       "      <td>496635</td>\n",
       "    </tr>\n",
       "    <tr>\n",
       "      <th>8</th>\n",
       "      <td>96.000000</td>\n",
       "      <td>32.0</td>\n",
       "      <td>28</td>\n",
       "      <td>0</td>\n",
       "      <td>12</td>\n",
       "      <td>0</td>\n",
       "      <td>10</td>\n",
       "      <td>100</td>\n",
       "      <td>12.000000</td>\n",
       "      <td>10</td>\n",
       "      <td>...</td>\n",
       "      <td>0</td>\n",
       "      <td>0</td>\n",
       "      <td>0</td>\n",
       "      <td>0</td>\n",
       "      <td>1</td>\n",
       "      <td>1</td>\n",
       "      <td>0</td>\n",
       "      <td>0</td>\n",
       "      <td>0</td>\n",
       "      <td>367772</td>\n",
       "    </tr>\n",
       "    <tr>\n",
       "      <th>9</th>\n",
       "      <td>97.000000</td>\n",
       "      <td>34.0</td>\n",
       "      <td>29</td>\n",
       "      <td>0</td>\n",
       "      <td>12</td>\n",
       "      <td>0</td>\n",
       "      <td>11</td>\n",
       "      <td>121</td>\n",
       "      <td>12.000000</td>\n",
       "      <td>11</td>\n",
       "      <td>...</td>\n",
       "      <td>0</td>\n",
       "      <td>0</td>\n",
       "      <td>0</td>\n",
       "      <td>0</td>\n",
       "      <td>1</td>\n",
       "      <td>1</td>\n",
       "      <td>0</td>\n",
       "      <td>0</td>\n",
       "      <td>0</td>\n",
       "      <td>480445</td>\n",
       "    </tr>\n",
       "  </tbody>\n",
       "</table>\n",
       "<p>10 rows × 32 columns</p>\n",
       "</div>"
      ],
      "text/plain": [
       "           IQ   KWW  age  black  educ  enroll  exper  expersq   fatheduc  id  \\\n",
       "0  102.449782  15.0   29      1     7       0     16      256  10.003448   2   \n",
       "1   93.000000  35.0   27      0    12       0      9       81   8.000000   3   \n",
       "2  103.000000  42.0   34      0    12       0     16      256  14.000000   4   \n",
       "3   88.000000  25.0   27      0    11       0     10      100  11.000000   5   \n",
       "4  108.000000  34.0   34      0    12       0     16      256   8.000000   6   \n",
       "5   85.000000  38.0   26      0    12       0      8       64   9.000000   7   \n",
       "6  119.000000  41.0   33      0    18       0      9       81  14.000000   8   \n",
       "7  108.000000  46.0   29      0    14       0      9       81  14.000000   9   \n",
       "8   96.000000  32.0   28      0    12       0     10      100  12.000000  10   \n",
       "9   97.000000  34.0   29      0    12       0     11      121  12.000000  11   \n",
       "\n",
       "   ...  reg667  reg668  reg669  sinmom14  smsa  smsa66  south  south66  \\\n",
       "0  ...       0       0       0         0     1       1      0        0   \n",
       "1  ...       0       0       0         0     1       1      0        0   \n",
       "2  ...       0       0       0         0     1       1      0        0   \n",
       "3  ...       0       0       0         0     1       1      0        0   \n",
       "4  ...       0       0       0         0     1       1      0        0   \n",
       "5  ...       0       0       0         0     1       1      0        0   \n",
       "6  ...       0       0       0         0     1       1      0        0   \n",
       "7  ...       0       0       0         0     1       1      0        0   \n",
       "8  ...       0       0       0         0     1       1      0        0   \n",
       "9  ...       0       0       0         0     1       1      0        0   \n",
       "\n",
       "   step14  weight  \n",
       "0       0  158413  \n",
       "1       0  380166  \n",
       "2       0  367470  \n",
       "3       0  380166  \n",
       "4       0  367470  \n",
       "5       0  380166  \n",
       "6       0  367470  \n",
       "7       0  496635  \n",
       "8       0  367772  \n",
       "9       0  480445  \n",
       "\n",
       "[10 rows x 32 columns]"
      ]
     },
     "execution_count": 246,
     "metadata": {},
     "output_type": "execute_result"
    }
   ],
   "source": [
    "x_data = df.loc[:, df.columns.difference(['wage', 'lwage'])]\n",
    "x_data.head(10)"
   ]
  },
  {
   "cell_type": "code",
   "execution_count": 247,
   "metadata": {},
   "outputs": [
    {
     "data": {
      "text/plain": [
       "0    548\n",
       "1    481\n",
       "2    721\n",
       "3    250\n",
       "4    729\n",
       "5    500\n",
       "6    565\n",
       "7    608\n",
       "8    425\n",
       "9    515\n",
       "Name: wage, dtype: int64"
      ]
     },
     "execution_count": 247,
     "metadata": {},
     "output_type": "execute_result"
    }
   ],
   "source": [
    "y_data = df.loc[:, 'wage']\n",
    "y_data.head(10)"
   ]
  },
  {
   "cell_type": "code",
   "execution_count": 239,
   "metadata": {},
   "outputs": [
    {
     "data": {
      "text/plain": [
       "array([[ 0.        , -2.17035768,  0.28069618, ..., -0.84102145,\n",
       "        -0.20110308, -0.95401883],\n",
       "       [-0.74059582,  0.17082836, -0.3569608 , ..., -0.84102145,\n",
       "        -0.20110308,  0.34568999],\n",
       "       [ 0.04312157,  0.99024347,  1.87483864, ..., -0.84102145,\n",
       "        -0.20110308,  0.2712779 ],\n",
       "       ...,\n",
       "       [ 0.513352  , -0.99976466, -1.31344628, ...,  1.18903032,\n",
       "        -0.20110308, -1.35926461],\n",
       "       [ 0.35660852, -0.18034955,  0.91835316, ...,  1.18903032,\n",
       "        -0.20110308, -1.23556682],\n",
       "       [ 0.        , -0.76564606, -0.6757893 , ...,  1.18903032,\n",
       "        -0.20110308, -1.40726673]])"
      ]
     },
     "execution_count": 239,
     "metadata": {},
     "output_type": "execute_result"
    }
   ],
   "source": [
    "x_data = StandardScaler().fit_transform(x_data)\n",
    "x_data"
   ]
  },
  {
   "cell_type": "code",
   "execution_count": 248,
   "metadata": {},
   "outputs": [
    {
     "data": {
      "text/plain": [
       "PCA(n_components=0.9)"
      ]
     },
     "execution_count": 248,
     "metadata": {},
     "output_type": "execute_result"
    }
   ],
   "source": [
    "pca = PCA(n_components=0.9)\n",
    "pca.fit(x_data)"
   ]
  },
  {
   "cell_type": "code",
   "execution_count": 249,
   "metadata": {},
   "outputs": [
    {
     "data": {
      "text/plain": [
       "array([[-162766.1053036 ],\n",
       "       [  58986.3448739 ],\n",
       "       [  46290.37134245],\n",
       "       ...,\n",
       "       [-231919.5602815 ],\n",
       "       [-210814.61726846],\n",
       "       [-240109.55137713]])"
      ]
     },
     "execution_count": 249,
     "metadata": {},
     "output_type": "execute_result"
    }
   ],
   "source": [
    "x_data = pca.transform(x_data)\n",
    "x_data"
   ]
  },
  {
   "cell_type": "code",
   "execution_count": 260,
   "metadata": {},
   "outputs": [],
   "source": [
    "poly = PolynomialFeatures(degree=8)"
   ]
  },
  {
   "cell_type": "code",
   "execution_count": 261,
   "metadata": {},
   "outputs": [],
   "source": [
    "x_poly = poly.fit_transform(x_data)"
   ]
  },
  {
   "cell_type": "code",
   "execution_count": 262,
   "metadata": {},
   "outputs": [
    {
     "data": {
      "text/plain": [
       "array([[ 1.00000000e+00,  5.44830676e+04,  2.96840466e+09, ...,\n",
       "         2.61558786e+28,  1.42505251e+33,  7.76412320e+37],\n",
       "       [ 1.00000000e+00,  4.39150842e+05,  1.92853462e+11, ...,\n",
       "         7.17269428e+33,  3.14989473e+39,  1.38327893e+45],\n",
       "       [ 1.00000000e+00,  5.89860602e+04,  3.47935530e+09, ...,\n",
       "         4.21207735e+28,  2.48453848e+33,  1.46553136e+38],\n",
       "       ...,\n",
       "       [ 1.00000000e+00, -2.34687179e+05,  5.50780721e+10, ...,\n",
       "         1.67084511e+32, -3.92125926e+37,  9.20269274e+42],\n",
       "       [ 1.00000000e+00,  1.16895145e+05,  1.36644750e+10, ...,\n",
       "         2.55140177e+30,  2.98246480e+35,  3.48635656e+40],\n",
       "       [ 1.00000000e+00, -2.08709548e+05,  4.35596756e+10, ...,\n",
       "         8.26521033e+31, -1.72502831e+37,  3.60029881e+42]])"
      ]
     },
     "execution_count": 262,
     "metadata": {},
     "output_type": "execute_result"
    }
   ],
   "source": [
    "x_train, x_test = train_test_split(x_poly, test_size=0.2, random_state=0)\n",
    "x_train"
   ]
  },
  {
   "cell_type": "code",
   "execution_count": 263,
   "metadata": {},
   "outputs": [
    {
     "data": {
      "text/plain": [
       "array([[ 1.00000000e+00, -2.42676853e+05,  5.88920551e+10, ...,\n",
       "         2.04253792e+32, -4.95676676e+37,  1.20289256e+43],\n",
       "       [ 1.00000000e+00,  8.94489045e+04,  8.00110651e+09, ...,\n",
       "         5.12212479e+29,  4.58168451e+34,  4.09826660e+39],\n",
       "       [ 1.00000000e+00,  3.71668764e+04,  1.38137670e+09, ...,\n",
       "         2.63594522e+27,  9.79698503e+31,  3.64123332e+36],\n",
       "       ...,\n",
       "       [ 1.00000000e+00,  3.12796215e+04,  9.78414724e+08, ...,\n",
       "         9.36631888e+26,  2.92974910e+31,  9.16414430e+35],\n",
       "       [ 1.00000000e+00,  9.62273478e+04,  9.25970246e+09, ...,\n",
       "         7.93946239e+29,  7.63993409e+34,  7.35170594e+39],\n",
       "       [ 1.00000000e+00,  3.71679197e+04,  1.38145425e+09, ...,\n",
       "         2.63638920e+27,  9.79891019e+31,  3.64205107e+36]])"
      ]
     },
     "execution_count": 263,
     "metadata": {},
     "output_type": "execute_result"
    }
   ],
   "source": [
    "x_test"
   ]
  },
  {
   "cell_type": "code",
   "execution_count": 264,
   "metadata": {},
   "outputs": [],
   "source": [
    "y_train, y_test = train_test_split(y_data.to_numpy(), test_size=0.2, random_state=0)"
   ]
  },
  {
   "cell_type": "code",
   "execution_count": 265,
   "metadata": {},
   "outputs": [
    {
     "data": {
      "text/plain": [
       "array([369, 466, 600, ..., 127, 423, 250], dtype=int64)"
      ]
     },
     "execution_count": 265,
     "metadata": {},
     "output_type": "execute_result"
    }
   ],
   "source": [
    "y_train"
   ]
  },
  {
   "cell_type": "code",
   "execution_count": 266,
   "metadata": {},
   "outputs": [
    {
     "data": {
      "text/plain": [
       "array([ 300,  625,  455,  250,  625,  450,  710,  404,  580,  529,  565,\n",
       "        625,  325,  445,  769,  625,  365,  517,  500,  543,  400,  452,\n",
       "        933,  761, 1155,  433,  300,  624, 1026,  647,  650,  697,  548,\n",
       "        923,  364,  846,  220, 1050,  721,  726,  692,  308,  400,  625,\n",
       "        535, 1265,  919,  208,  604,  400,  727,  225,  700,  250,  677,\n",
       "        409,  398,  823,  688,  476,  693,  202,  549,  423,  347,  400,\n",
       "        365, 1167,  136,  400,  625,  425,  300,  350,  543,  425,  299,\n",
       "        393,  350,  817,  721,  575,  555,  355,  155,  625,  486,  250,\n",
       "        656, 1039,  430,  265,  684,  452,  595,  509,  962,  417,  547,\n",
       "        577,  424,  385,  400,  520,  285,  695,  250, 1049,  481,  350,\n",
       "        240,  385,  225,  646,  220,  275,  393,  656,  462,  462,  479,\n",
       "        447,  418,  750,  711,  600,  275,  433,  601,  673,  470, 1000,\n",
       "        745,  307,  423,  390,  615,  300, 2083,  786,  865,  800,  600,\n",
       "        325,  726,  230,  250,  375,  746,  287,  484,  260,  459,  379,\n",
       "       1082,  524,  375,  285,  801,  400,  440,  475,  400,  485,  588,\n",
       "        388,  558,  524,  220,  250,  196,  577,  700,  350,  577,  726,\n",
       "        462,  404,  700,  865,  803,  235,  444,  653,  325,  423,  250,\n",
       "       1374,  812,  448,  750,  479,  255,  580, 1264,  875,  375,  604,\n",
       "        427,  550,  546,  375,  400,  727, 1058,  635,  393,  308,  501,\n",
       "        673,  529,  586,  553,  226,  438,  609,  721,  540,  314,  476,\n",
       "        491,  843,  450, 1979,  354,  390,  250,  481,  829,  333,  525,\n",
       "        550,  600,  721,  330,  400,  591,  528,  300,  260,  475,  425,\n",
       "        615,  962,  333, 1010,  475,  505,  375,  526,  380,  308,  551,\n",
       "        743,  500,  267,  311,  275,  577,  402,  673,  380,  585, 1049,\n",
       "        700,  600,  462,  400,  962,  481,  345,  300,  503,  576,  345,\n",
       "        713,  583,  542, 1846,  475,  385,  462,  686, 2404,  600,  650,\n",
       "        512,  700,  375,  385,  875,  641, 1269,  625,  282,  723,  370,\n",
       "        350,  758,  443, 1322,  500,  418,  438,  393,  658,  337,  810,\n",
       "        721,  596,  317,  721,  313,  460,  673,  545,  553,  650,  505,\n",
       "        548,  714,  861,  650,  700,  289,  615,  385,  515,  962,  427,\n",
       "        285,  690,  783,  358,  627,  268,  378,  691, 1538,  996,  817,\n",
       "        333,  450,  300,  675,  375,  350,  300,  551,  217,  577,  613,\n",
       "        274,  361,  745,  625,  409,  606,  375,  337,  702,  750, 1125,\n",
       "        818,  721,  808,  577,  500,  563,  713,  875,  482,  975,  385,\n",
       "       1192,  325,  500,  608,  378,  726,  618,  375,  490,  929,  663,\n",
       "        513,  750,  308, 1116,  425,  450,  413,  839,  374,  793,  500,\n",
       "        286,  514,  485,  311,  252,  693,  260,  577,  616, 1049,  664,\n",
       "       1052,  350,  467,  471,  758,  375,  315,  800,  486,  405,  537,\n",
       "        865,  711,  625,  267,  547,  356,  500,  889,  705,  625,  411,\n",
       "        789,  159,  727,  520,  396,  635,  445,  894,  657,  577,  740,\n",
       "        262,  649,  308,  455,  640,  625,  513,  577,  447,  286,  760,\n",
       "       2115,  300,  275,  481,  533,  601,  528,  721,  438,  619,  769,\n",
       "        188, 1502, 1000,  813,  531,  308,  577,  667,  413,  588,  802,\n",
       "        625,  599,  750,  524,  410,  300,  686,  600,  500,  641,  471,\n",
       "        913,  356,  913,  577,  579,  435,  445,  575,  300,  820,  795,\n",
       "        758,  318,  413,  450,  250,  438,  467,  350,  449,  350,  388,\n",
       "        641,  534,  635,  663,  866,  451,  520,  731,  480,  481,  840,\n",
       "        721,  670, 1106,  438,  620,  750,  781,  529,  411,  481,  337,\n",
       "        479,  995,  692,  344,  797,  298,  325,  525,  375,  275,  411,\n",
       "        450, 1044,  346,  340,  395, 1010,  500,  142,  406,  731,  894,\n",
       "        693,  350,  543,  641, 1150,  701,  462,  850,  558,  739,  444,\n",
       "        577,  300,  481,  641,  416,  476,  909,  750,  778,  470,  208,\n",
       "        310,  635,  365,  726,  710,  750, 1026,  503,  414,  513,  469,\n",
       "        620,  267,  700,  325,  675, 1082,  375,  600,  692,  863,  633,\n",
       "        751,  353,  625,  575,  800,  865,  462,  726], dtype=int64)"
      ]
     },
     "execution_count": 266,
     "metadata": {},
     "output_type": "execute_result"
    }
   ],
   "source": [
    "y_test"
   ]
  },
  {
   "cell_type": "code",
   "execution_count": 267,
   "metadata": {},
   "outputs": [
    {
     "data": {
      "text/plain": [
       "LinearRegression()"
      ]
     },
     "execution_count": 267,
     "metadata": {},
     "output_type": "execute_result"
    }
   ],
   "source": [
    "model = LinearRegression()\n",
    "model.fit(x_train, y_train)"
   ]
  },
  {
   "cell_type": "code",
   "execution_count": 268,
   "metadata": {},
   "outputs": [
    {
     "data": {
      "text/plain": [
       "270.45575886925286"
      ]
     },
     "execution_count": 268,
     "metadata": {},
     "output_type": "execute_result"
    }
   ],
   "source": [
    "y_pred = model.predict(x_test)\n",
    "poly_reg_rmse = np.sqrt(mean_squared_error(y_test, y_pred))\n",
    "poly_reg_rmse"
   ]
  },
  {
   "cell_type": "code",
   "execution_count": null,
   "metadata": {},
   "outputs": [],
   "source": []
  }
 ],
 "metadata": {
  "interpreter": {
   "hash": "8390865a62e5f1c5fc6f71608c5d8b985278dcbe21d445a017d91792b507d818"
  },
  "kernelspec": {
   "display_name": "Python 3.8.8 ('base')",
   "language": "python",
   "name": "python3"
  },
  "language_info": {
   "codemirror_mode": {
    "name": "ipython",
    "version": 3
   },
   "file_extension": ".py",
   "mimetype": "text/x-python",
   "name": "python",
   "nbconvert_exporter": "python",
   "pygments_lexer": "ipython3",
   "version": "3.8.8"
  },
  "orig_nbformat": 4
 },
 "nbformat": 4,
 "nbformat_minor": 2
}
